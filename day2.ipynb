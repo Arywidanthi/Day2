{
 "cells": [
  {
   "cell_type": "code",
   "execution_count": 3,
   "metadata": {},
   "outputs": [
    {
     "name": "stdout",
     "output_type": "stream",
     "text": [
      "ary widanthi\n"
     ]
    }
   ],
   "source": [
    "print ('ary widanthi')"
   ]
  },
  {
   "attachments": {},
   "cell_type": "markdown",
   "metadata": {},
   "source": [
    "#**PM class**\n",
    "```\n",
    "print ('apa')\n",
    "```\n",
    "<h1> byebye </h1>\n",
    "Integer\n"
   ]
  },
  {
   "cell_type": "code",
   "execution_count": 4,
   "metadata": {},
   "outputs": [
    {
     "name": "stdout",
     "output_type": "stream",
     "text": [
      "50\n"
     ]
    }
   ],
   "source": [
    "number1 = 20\n",
    "number2 = 30\n",
    "\n",
    "print(number1 + number2)"
   ]
  },
  {
   "cell_type": "code",
   "execution_count": 7,
   "metadata": {},
   "outputs": [
    {
     "name": "stdout",
     "output_type": "stream",
     "text": [
      "arywidanthi\n",
      "arawinda\n",
      "arywidanthi arawinda\n"
     ]
    }
   ],
   "source": [
    "print('arywidanthi')\n",
    "print('arawinda')\n",
    "\n",
    "print('arywidanthi', end=' ')\n",
    "print('arawinda')"
   ]
  },
  {
   "cell_type": "code",
   "execution_count": 10,
   "metadata": {},
   "outputs": [
    {
     "name": "stdout",
     "output_type": "stream",
     "text": [
      "arywidanthi\n",
      "arawinda\n"
     ]
    }
   ],
   "source": [
    "print('ary','widanthi', sep='')\n",
    "print('arawinda')\n",
    "#kok ga mau ke seperate?"
   ]
  },
  {
   "cell_type": "code",
   "execution_count": 11,
   "metadata": {},
   "outputs": [
    {
     "ename": "SyntaxError",
     "evalue": "unexpected character after line continuation character (1331802481.py, line 2)",
     "output_type": "error",
     "traceback": [
      "\u001b[1;36m  Cell \u001b[1;32mIn[11], line 2\u001b[1;36m\u001b[0m\n\u001b[1;33m    print('halo, nama \\\"saya\\\" \\'ary'\\)\u001b[0m\n\u001b[1;37m                                      ^\u001b[0m\n\u001b[1;31mSyntaxError\u001b[0m\u001b[1;31m:\u001b[0m unexpected character after line continuation character\n"
     ]
    }
   ],
   "source": [
    "#cetak string hallo nama saya 'ary'\n",
    "print('halo, nama \\\"saya\\\" \\'ary'\\)"
   ]
  },
  {
   "cell_type": "code",
   "execution_count": 12,
   "metadata": {},
   "outputs": [
    {
     "name": "stdout",
     "output_type": "stream",
     "text": [
      "50\n"
     ]
    }
   ],
   "source": [
    "#casting = ngubah data type\n",
    "number1 = 20\n",
    "number2 = '30'\n",
    "\n",
    "print(number1 + int(number2))"
   ]
  },
  {
   "cell_type": "code",
   "execution_count": 16,
   "metadata": {},
   "outputs": [
    {
     "name": "stdout",
     "output_type": "stream",
     "text": [
      "40.0\n",
      "<class 'float'>\n"
     ]
    }
   ],
   "source": [
    "#angka apapun ditambah float bakal jadi float\n",
    "number1 = 20\n",
    "number2 = 20.0\n",
    "\n",
    "print(number1 + number2)\n",
    "#cek data type\n",
    "print(type(number1))"
   ]
  },
  {
   "cell_type": "code",
   "execution_count": 17,
   "metadata": {},
   "outputs": [
    {
     "name": "stdout",
     "output_type": "stream",
     "text": [
      "40.2357\n",
      "40.235654\n"
     ]
    }
   ],
   "source": [
    "#pembulatan\n",
    "number1 = 20\n",
    "number2 = 20.235654\n",
    "total=number1+number2\n",
    "print(round(total,4))\n",
    "print(total)"
   ]
  },
  {
   "cell_type": "code",
   "execution_count": 20,
   "metadata": {},
   "outputs": [
    {
     "name": "stdout",
     "output_type": "stream",
     "text": [
      "0.3\n"
     ]
    }
   ],
   "source": [
    "#0.30000000000000004 biar ga banyak gtu import decimal\n",
    "from decimal import Decimal\n",
    "x= Decimal('0.1')\n",
    "y= Decimal('0.1')\n",
    "z= Decimal('0.1')\n",
    "print(x+y+z)"
   ]
  },
  {
   "cell_type": "code",
   "execution_count": 24,
   "metadata": {},
   "outputs": [
    {
     "name": "stdout",
     "output_type": "stream",
     "text": [
      "True\n"
     ]
    }
   ],
   "source": [
    "#Boolean\n",
    "print(bool(' '))\n"
   ]
  },
  {
   "attachments": {},
   "cell_type": "markdown",
   "metadata": {},
   "source": [
    "Camel case, pascal case, snake case"
   ]
  },
  {
   "attachments": {},
   "cell_type": "markdown",
   "metadata": {},
   "source": [
    "# LIST"
   ]
  },
  {
   "cell_type": "code",
   "execution_count": 30,
   "metadata": {},
   "outputs": [
    {
     "name": "stdout",
     "output_type": "stream",
     "text": [
      "['mobil', 'motor']\n",
      "['mobil', 'motor']\n",
      "['mobil', 'pesawat']\n",
      "4\n"
     ]
    }
   ],
   "source": [
    "# : artinya 2-1\n",
    "kendaraan = ['mobil', 'motor', 'pesawat','kapal']\n",
    "print (kendaraan[:2])\n",
    "print (kendaraan[:-2])\n",
    "print (kendaraan[:3:2])\n",
    "#cara tau ada berapa list\n",
    "print(len(kendaraan))"
   ]
  },
  {
   "cell_type": "code",
   "execution_count": 31,
   "metadata": {},
   "outputs": [
    {
     "name": "stdout",
     "output_type": "stream",
     "text": [
      "kapal\n"
     ]
    }
   ],
   "source": [
    "#use ascii table\n",
    "print(min(kendaraan))"
   ]
  },
  {
   "attachments": {},
   "cell_type": "markdown",
   "metadata": {},
   "source": [
    "Change list item Insert, append, extend"
   ]
  },
  {
   "cell_type": "code",
   "execution_count": null,
   "metadata": {},
   "outputs": [],
   "source": []
  }
 ],
 "metadata": {
  "kernelspec": {
   "display_name": "DataScience",
   "language": "python",
   "name": "python3"
  },
  "language_info": {
   "codemirror_mode": {
    "name": "ipython",
    "version": 3
   },
   "file_extension": ".py",
   "mimetype": "text/x-python",
   "name": "python",
   "nbconvert_exporter": "python",
   "pygments_lexer": "ipython3",
   "version": "3.9.16"
  },
  "orig_nbformat": 4
 },
 "nbformat": 4,
 "nbformat_minor": 2
}
